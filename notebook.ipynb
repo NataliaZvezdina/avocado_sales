{
 "cells": [
  {
   "cell_type": "code",
   "execution_count": 1,
   "id": "81523b3e",
   "metadata": {},
   "outputs": [],
   "source": [
    "import pandas as pd\n",
    "\n",
    "import seaborn as sns\n",
    "import matplotlib.pyplot as plt\n",
    "\n",
    "%matplotlib inline"
   ]
  },
  {
   "cell_type": "markdown",
   "id": "550efb0a",
   "metadata": {},
   "source": [
    "#### Import and preprocessing data:"
   ]
  },
  {
   "cell_type": "markdown",
   "id": "bc9ab907",
   "metadata": {},
   "source": [
    "The following data set is from the `Hass Avocado Board`:"
   ]
  },
  {
   "cell_type": "code",
   "execution_count": 2,
   "id": "e97deab9",
   "metadata": {},
   "outputs": [],
   "source": [
    "df = pd.read_csv('avocado_mean.csv', \n",
    "                 parse_dates=['Date'], \n",
    "                 index_col='Date')"
   ]
  },
  {
   "cell_type": "code",
   "execution_count": 3,
   "id": "ab7d3b17",
   "metadata": {},
   "outputs": [
    {
     "data": {
      "text/html": [
       "<div>\n",
       "<style scoped>\n",
       "    .dataframe tbody tr th:only-of-type {\n",
       "        vertical-align: middle;\n",
       "    }\n",
       "\n",
       "    .dataframe tbody tr th {\n",
       "        vertical-align: top;\n",
       "    }\n",
       "\n",
       "    .dataframe thead th {\n",
       "        text-align: right;\n",
       "    }\n",
       "</style>\n",
       "<table border=\"1\" class=\"dataframe\">\n",
       "  <thead>\n",
       "    <tr style=\"text-align: right;\">\n",
       "      <th></th>\n",
       "      <th>AveragePrice</th>\n",
       "    </tr>\n",
       "    <tr>\n",
       "      <th>Date</th>\n",
       "      <th></th>\n",
       "    </tr>\n",
       "  </thead>\n",
       "  <tbody>\n",
       "    <tr>\n",
       "      <th>2015-01-04</th>\n",
       "      <td>1.301296</td>\n",
       "    </tr>\n",
       "    <tr>\n",
       "      <th>2015-01-11</th>\n",
       "      <td>1.370648</td>\n",
       "    </tr>\n",
       "    <tr>\n",
       "      <th>2015-01-18</th>\n",
       "      <td>1.391111</td>\n",
       "    </tr>\n",
       "    <tr>\n",
       "      <th>2015-01-25</th>\n",
       "      <td>1.397130</td>\n",
       "    </tr>\n",
       "    <tr>\n",
       "      <th>2015-02-01</th>\n",
       "      <td>1.247037</td>\n",
       "    </tr>\n",
       "  </tbody>\n",
       "</table>\n",
       "</div>"
      ],
      "text/plain": [
       "            AveragePrice\n",
       "Date                    \n",
       "2015-01-04      1.301296\n",
       "2015-01-11      1.370648\n",
       "2015-01-18      1.391111\n",
       "2015-01-25      1.397130\n",
       "2015-02-01      1.247037"
      ]
     },
     "execution_count": 3,
     "metadata": {},
     "output_type": "execute_result"
    }
   ],
   "source": [
    "df.head()"
   ]
  },
  {
   "cell_type": "code",
   "execution_count": 4,
   "id": "e15c08bb",
   "metadata": {},
   "outputs": [
    {
     "data": {
      "text/plain": [
       "(169, 1)"
      ]
     },
     "execution_count": 4,
     "metadata": {},
     "output_type": "execute_result"
    }
   ],
   "source": [
    "df.shape"
   ]
  },
  {
   "cell_type": "code",
   "execution_count": 5,
   "id": "e3d2c8cd",
   "metadata": {},
   "outputs": [
    {
     "data": {
      "text/plain": [
       "AveragePrice    float64\n",
       "dtype: object"
      ]
     },
     "execution_count": 5,
     "metadata": {},
     "output_type": "execute_result"
    }
   ],
   "source": [
    "df.dtypes"
   ]
  },
  {
   "cell_type": "markdown",
   "id": "f8b1c6a6",
   "metadata": {},
   "source": [
    "Calculate the `moving average price` of avocado (AveragePrice) with window equals `3` (window)"
   ]
  },
  {
   "cell_type": "code",
   "execution_count": 6,
   "id": "a4097dd3",
   "metadata": {},
   "outputs": [],
   "source": [
    "moving_avg = df.AveragePrice \\\n",
    "                        .rolling(3) \\\n",
    "                        .mean()"
   ]
  },
  {
   "cell_type": "code",
   "execution_count": 7,
   "id": "53ba640e",
   "metadata": {},
   "outputs": [
    {
     "data": {
      "text/plain": [
       "Date\n",
       "2015-01-04         NaN\n",
       "2015-01-11         NaN\n",
       "2015-01-18    1.354352\n",
       "2015-01-25    1.386296\n",
       "2015-02-01    1.345093\n",
       "                ...   \n",
       "2018-02-25    1.346914\n",
       "2018-03-04    1.361296\n",
       "2018-03-11    1.348302\n",
       "2018-03-18    1.332994\n",
       "2018-03-25    1.331883\n",
       "Name: AveragePrice, Length: 169, dtype: float64"
      ]
     },
     "execution_count": 7,
     "metadata": {},
     "output_type": "execute_result"
    }
   ],
   "source": [
    "moving_avg"
   ]
  },
  {
   "cell_type": "markdown",
   "id": "ad43da12",
   "metadata": {},
   "source": [
    "What is the maximum value?"
   ]
  },
  {
   "cell_type": "code",
   "execution_count": 8,
   "id": "485b9179",
   "metadata": {},
   "outputs": [
    {
     "data": {
      "text/plain": [
       "1.8493209876543208"
      ]
     },
     "execution_count": 8,
     "metadata": {},
     "output_type": "execute_result"
    }
   ],
   "source": [
    "moving_avg.max()"
   ]
  },
  {
   "cell_type": "markdown",
   "id": "5303c3a8",
   "metadata": {},
   "source": [
    "Let's see, how the chart changes depending on the selected window size.\n",
    "Construct charts of moving average with different values of window parameter (2, 4, 10, 50)."
   ]
  },
  {
   "cell_type": "code",
   "execution_count": 9,
   "id": "7bfcef64",
   "metadata": {},
   "outputs": [],
   "source": [
    "def moving_avg(window):\n",
    "    return df.rolling(window).mean()"
   ]
  },
  {
   "cell_type": "code",
   "execution_count": 10,
   "id": "9a434ac5",
   "metadata": {},
   "outputs": [
    {
     "data": {
      "image/png": "[encoded data removed]",
      "text/plain": [
       "<Figure size 864x576 with 1 Axes>"
      ]
     },
     "metadata": {
      "needs_background": "light"
     },
     "output_type": "display_data"
    }
   ],
   "source": [
    "plt.figure(figsize=(12, 8))\n",
    "sns.lineplot(x=df.index,\n",
    "             y=df.AveragePrice,\n",
    "             label='original')\n",
    "sns.lineplot(x=moving_avg(2).index,\n",
    "             y=moving_avg(2).AveragePrice,\n",
    "             label='window=2')\n",
    "sns.lineplot(x=moving_avg(4).index,\n",
    "             y=moving_avg(4).AveragePrice,\n",
    "             label='window=4')\n",
    "sns.lineplot(x=moving_avg(10).index,\n",
    "             y=moving_avg(10).AveragePrice,\n",
    "             label='window=10')\n",
    "sns.lineplot(x=moving_avg(50).index,\n",
    "             y=moving_avg(50).AveragePrice,\n",
    "             label='window=50');"
   ]
  },
  {
   "cell_type": "markdown",
   "id": "97690aa2",
   "metadata": {},
   "source": [
    "***\n",
    "Calculate exponential moving average (apply parameter span=2 responsible for decay):"
   ]
  },
  {
   "cell_type": "code",
   "execution_count": 11,
   "id": "9acade7d",
   "metadata": {},
   "outputs": [
    {
     "data": {
      "text/html": [
       "<div>\n",
       "<style scoped>\n",
       "    .dataframe tbody tr th:only-of-type {\n",
       "        vertical-align: middle;\n",
       "    }\n",
       "\n",
       "    .dataframe tbody tr th {\n",
       "        vertical-align: top;\n",
       "    }\n",
       "\n",
       "    .dataframe thead th {\n",
       "        text-align: right;\n",
       "    }\n",
       "</style>\n",
       "<table border=\"1\" class=\"dataframe\">\n",
       "  <thead>\n",
       "    <tr style=\"text-align: right;\">\n",
       "      <th></th>\n",
       "      <th>AveragePrice</th>\n",
       "    </tr>\n",
       "    <tr>\n",
       "      <th>Date</th>\n",
       "      <th></th>\n",
       "    </tr>\n",
       "  </thead>\n",
       "  <tbody>\n",
       "    <tr>\n",
       "      <th>2015-01-04</th>\n",
       "      <td>1.301296</td>\n",
       "    </tr>\n",
       "    <tr>\n",
       "      <th>2015-01-11</th>\n",
       "      <td>1.353310</td>\n",
       "    </tr>\n",
       "    <tr>\n",
       "      <th>2015-01-18</th>\n",
       "      <td>1.379480</td>\n",
       "    </tr>\n",
       "    <tr>\n",
       "      <th>2015-01-25</th>\n",
       "      <td>1.391394</td>\n",
       "    </tr>\n",
       "    <tr>\n",
       "      <th>2015-02-01</th>\n",
       "      <td>1.294758</td>\n",
       "    </tr>\n",
       "    <tr>\n",
       "      <th>...</th>\n",
       "      <td>...</td>\n",
       "    </tr>\n",
       "    <tr>\n",
       "      <th>2018-02-25</th>\n",
       "      <td>1.356212</td>\n",
       "    </tr>\n",
       "    <tr>\n",
       "      <th>2018-03-04</th>\n",
       "      <td>1.352194</td>\n",
       "    </tr>\n",
       "    <tr>\n",
       "      <th>2018-03-11</th>\n",
       "      <td>1.340793</td>\n",
       "    </tr>\n",
       "    <tr>\n",
       "      <th>2018-03-18</th>\n",
       "      <td>1.322734</td>\n",
       "    </tr>\n",
       "    <tr>\n",
       "      <th>2018-03-25</th>\n",
       "      <td>1.338812</td>\n",
       "    </tr>\n",
       "  </tbody>\n",
       "</table>\n",
       "<p>169 rows × 1 columns</p>\n",
       "</div>"
      ],
      "text/plain": [
       "            AveragePrice\n",
       "Date                    \n",
       "2015-01-04      1.301296\n",
       "2015-01-11      1.353310\n",
       "2015-01-18      1.379480\n",
       "2015-01-25      1.391394\n",
       "2015-02-01      1.294758\n",
       "...                  ...\n",
       "2018-02-25      1.356212\n",
       "2018-03-04      1.352194\n",
       "2018-03-11      1.340793\n",
       "2018-03-18      1.322734\n",
       "2018-03-25      1.338812\n",
       "\n",
       "[169 rows x 1 columns]"
      ]
     },
     "execution_count": 11,
     "metadata": {},
     "output_type": "execute_result"
    }
   ],
   "source": [
    "df \\\n",
    "    .ewm(span=2) \\\n",
    "    .mean()"
   ]
  },
  {
   "cell_type": "code",
   "execution_count": 12,
   "id": "34c37717",
   "metadata": {},
   "outputs": [],
   "source": [
    "df_full = pd.read_csv('avocado_full.csv', \n",
    "                      index_col='Date')"
   ]
  },
  {
   "cell_type": "code",
   "execution_count": 13,
   "id": "28373834",
   "metadata": {},
   "outputs": [
    {
     "data": {
      "text/html": [
       "<div>\n",
       "<style scoped>\n",
       "    .dataframe tbody tr th:only-of-type {\n",
       "        vertical-align: middle;\n",
       "    }\n",
       "\n",
       "    .dataframe tbody tr th {\n",
       "        vertical-align: top;\n",
       "    }\n",
       "\n",
       "    .dataframe thead th {\n",
       "        text-align: right;\n",
       "    }\n",
       "</style>\n",
       "<table border=\"1\" class=\"dataframe\">\n",
       "  <thead>\n",
       "    <tr style=\"text-align: right;\">\n",
       "      <th></th>\n",
       "      <th>AveragePrice</th>\n",
       "      <th>Total Volume</th>\n",
       "      <th>4046</th>\n",
       "      <th>4225</th>\n",
       "      <th>4770</th>\n",
       "      <th>Total Bags</th>\n",
       "      <th>Small Bags</th>\n",
       "      <th>Large Bags</th>\n",
       "      <th>XLarge Bags</th>\n",
       "      <th>type</th>\n",
       "      <th>year</th>\n",
       "      <th>region</th>\n",
       "    </tr>\n",
       "    <tr>\n",
       "      <th>Date</th>\n",
       "      <th></th>\n",
       "      <th></th>\n",
       "      <th></th>\n",
       "      <th></th>\n",
       "      <th></th>\n",
       "      <th></th>\n",
       "      <th></th>\n",
       "      <th></th>\n",
       "      <th></th>\n",
       "      <th></th>\n",
       "      <th></th>\n",
       "      <th></th>\n",
       "    </tr>\n",
       "  </thead>\n",
       "  <tbody>\n",
       "    <tr>\n",
       "      <th>2015-01-04</th>\n",
       "      <td>1.75</td>\n",
       "      <td>27365.89</td>\n",
       "      <td>9307.34</td>\n",
       "      <td>3844.81</td>\n",
       "      <td>615.28</td>\n",
       "      <td>13598.46</td>\n",
       "      <td>13061.10</td>\n",
       "      <td>537.36</td>\n",
       "      <td>0.0</td>\n",
       "      <td>organic</td>\n",
       "      <td>2015</td>\n",
       "      <td>Southeast</td>\n",
       "    </tr>\n",
       "    <tr>\n",
       "      <th>2015-01-04</th>\n",
       "      <td>1.49</td>\n",
       "      <td>17723.17</td>\n",
       "      <td>1189.35</td>\n",
       "      <td>15628.27</td>\n",
       "      <td>0.00</td>\n",
       "      <td>905.55</td>\n",
       "      <td>905.55</td>\n",
       "      <td>0.00</td>\n",
       "      <td>0.0</td>\n",
       "      <td>organic</td>\n",
       "      <td>2015</td>\n",
       "      <td>Chicago</td>\n",
       "    </tr>\n",
       "    <tr>\n",
       "      <th>2015-01-04</th>\n",
       "      <td>1.68</td>\n",
       "      <td>2896.72</td>\n",
       "      <td>161.68</td>\n",
       "      <td>206.96</td>\n",
       "      <td>0.00</td>\n",
       "      <td>2528.08</td>\n",
       "      <td>2528.08</td>\n",
       "      <td>0.00</td>\n",
       "      <td>0.0</td>\n",
       "      <td>organic</td>\n",
       "      <td>2015</td>\n",
       "      <td>HarrisburgScranton</td>\n",
       "    </tr>\n",
       "    <tr>\n",
       "      <th>2015-01-04</th>\n",
       "      <td>1.52</td>\n",
       "      <td>54956.80</td>\n",
       "      <td>3013.04</td>\n",
       "      <td>35456.88</td>\n",
       "      <td>1561.70</td>\n",
       "      <td>14925.18</td>\n",
       "      <td>11264.80</td>\n",
       "      <td>3660.38</td>\n",
       "      <td>0.0</td>\n",
       "      <td>conventional</td>\n",
       "      <td>2015</td>\n",
       "      <td>Pittsburgh</td>\n",
       "    </tr>\n",
       "    <tr>\n",
       "      <th>2015-01-04</th>\n",
       "      <td>1.64</td>\n",
       "      <td>1505.12</td>\n",
       "      <td>1.27</td>\n",
       "      <td>1129.50</td>\n",
       "      <td>0.00</td>\n",
       "      <td>374.35</td>\n",
       "      <td>186.67</td>\n",
       "      <td>187.68</td>\n",
       "      <td>0.0</td>\n",
       "      <td>organic</td>\n",
       "      <td>2015</td>\n",
       "      <td>Boise</td>\n",
       "    </tr>\n",
       "  </tbody>\n",
       "</table>\n",
       "</div>"
      ],
      "text/plain": [
       "            AveragePrice  Total Volume     4046      4225     4770  \\\n",
       "Date                                                                 \n",
       "2015-01-04          1.75      27365.89  9307.34   3844.81   615.28   \n",
       "2015-01-04          1.49      17723.17  1189.35  15628.27     0.00   \n",
       "2015-01-04          1.68       2896.72   161.68    206.96     0.00   \n",
       "2015-01-04          1.52      54956.80  3013.04  35456.88  1561.70   \n",
       "2015-01-04          1.64       1505.12     1.27   1129.50     0.00   \n",
       "\n",
       "            Total Bags  Small Bags  Large Bags  XLarge Bags          type  \\\n",
       "Date                                                                        \n",
       "2015-01-04    13598.46    13061.10      537.36          0.0       organic   \n",
       "2015-01-04      905.55      905.55        0.00          0.0       organic   \n",
       "2015-01-04     2528.08     2528.08        0.00          0.0       organic   \n",
       "2015-01-04    14925.18    11264.80     3660.38          0.0  conventional   \n",
       "2015-01-04      374.35      186.67      187.68          0.0       organic   \n",
       "\n",
       "            year              region  \n",
       "Date                                  \n",
       "2015-01-04  2015           Southeast  \n",
       "2015-01-04  2015             Chicago  \n",
       "2015-01-04  2015  HarrisburgScranton  \n",
       "2015-01-04  2015          Pittsburgh  \n",
       "2015-01-04  2015               Boise  "
      ]
     },
     "execution_count": 13,
     "metadata": {},
     "output_type": "execute_result"
    }
   ],
   "source": [
    "df_full.head()"
   ]
  },
  {
   "cell_type": "code",
   "execution_count": 14,
   "id": "c8ed7d51",
   "metadata": {},
   "outputs": [
    {
     "data": {
      "text/plain": [
       "(18249, 12)"
      ]
     },
     "execution_count": 14,
     "metadata": {},
     "output_type": "execute_result"
    }
   ],
   "source": [
    "df_full.shape"
   ]
  },
  {
   "cell_type": "code",
   "execution_count": 15,
   "id": "a0aafcc7",
   "metadata": {},
   "outputs": [
    {
     "data": {
      "text/plain": [
       "AveragePrice    float64\n",
       "Total Volume    float64\n",
       "4046            float64\n",
       "4225            float64\n",
       "4770            float64\n",
       "Total Bags      float64\n",
       "Small Bags      float64\n",
       "Large Bags      float64\n",
       "XLarge Bags     float64\n",
       "type             object\n",
       "year              int64\n",
       "region           object\n",
       "dtype: object"
      ]
     },
     "execution_count": 15,
     "metadata": {},
     "output_type": "execute_result"
    }
   ],
   "source": [
    "df_full.dtypes"
   ]
  },
  {
   "cell_type": "markdown",
   "id": "767257fa",
   "metadata": {},
   "source": [
    "For avocados of type `organic` (type) in `Chicago` (region), calculate a `moving average` with `window=4` and an `exponential moving average` with `span=4`. Build charts and then fill in the blanks."
   ]
  },
  {
   "cell_type": "code",
   "execution_count": 16,
   "id": "2e3195a5",
   "metadata": {},
   "outputs": [
    {
     "data": {
      "text/plain": [
       "Date\n",
       "2015-01-04       NaN\n",
       "2015-01-11       NaN\n",
       "2015-01-18       NaN\n",
       "2015-01-25    1.7300\n",
       "2015-02-01    1.7375\n",
       "               ...  \n",
       "2018-02-25    1.6525\n",
       "2018-03-04    1.6525\n",
       "2018-03-11    1.6550\n",
       "2018-03-18    1.6550\n",
       "2018-03-25    1.6575\n",
       "Name: AveragePrice, Length: 169, dtype: float64"
      ]
     },
     "execution_count": 16,
     "metadata": {},
     "output_type": "execute_result"
    }
   ],
   "source": [
    "mov_avg =df_full \\\n",
    "            .query('type == \"organic\" and region == \"Chicago\"') \\\n",
    "            .AveragePrice \\\n",
    "            .rolling(4) \\\n",
    "            .mean()    \n",
    "mov_avg"
   ]
  },
  {
   "cell_type": "code",
   "execution_count": 17,
   "id": "74bb5f7b",
   "metadata": {},
   "outputs": [
    {
     "data": {
      "text/plain": [
       "Date\n",
       "2015-01-04    1.490000\n",
       "2015-01-11    1.677500\n",
       "2015-01-18    1.745102\n",
       "2015-01-25    1.784118\n",
       "2015-02-01    1.669563\n",
       "                ...   \n",
       "2018-02-25    1.676654\n",
       "2018-03-04    1.653992\n",
       "2018-03-11    1.656395\n",
       "2018-03-18    1.657837\n",
       "2018-03-25    1.670702\n",
       "Name: AveragePrice, Length: 169, dtype: float64"
      ]
     },
     "execution_count": 17,
     "metadata": {},
     "output_type": "execute_result"
    }
   ],
   "source": [
    "ewm =df_full \\\n",
    "        .query('type == \"organic\" and region == \"Chicago\"') \\\n",
    "        .AveragePrice \\\n",
    "        .ewm(span=4) \\\n",
    "        .mean() \n",
    "ewm"
   ]
  },
  {
   "cell_type": "code",
   "execution_count": 18,
   "id": "4ca36905",
   "metadata": {},
   "outputs": [
    {
     "data": {
      "image/png": "[encoded data removed]",
      "text/plain": [
       "<Figure size 864x576 with 1 Axes>"
      ]
     },
     "metadata": {
      "needs_background": "light"
     },
     "output_type": "display_data"
    }
   ],
   "source": [
    "plt.figure(figsize=(12, 8))\n",
    "sns.lineplot(data=mov_avg, \n",
    "             label='moving_average')\n",
    "sns.lineplot(data=ewm, \n",
    "             label='ewm');"
   ]
  },
  {
   "cell_type": "markdown",
   "id": "bdd852ca",
   "metadata": {},
   "source": [
    "***\n",
    "Another dataset about delays on making deals, contains Information on which companies have made deals with whom and for what amount and how long they had been late:"
   ]
  },
  {
   "cell_type": "code",
   "execution_count": 19,
   "id": "d021cfab",
   "metadata": {},
   "outputs": [],
   "source": [
    "df_delays = pd.read_csv('delays.csv')"
   ]
  },
  {
   "cell_type": "code",
   "execution_count": 20,
   "id": "f95d209d",
   "metadata": {},
   "outputs": [
    {
     "data": {
      "text/html": [
       "<div>\n",
       "<style scoped>\n",
       "    .dataframe tbody tr th:only-of-type {\n",
       "        vertical-align: middle;\n",
       "    }\n",
       "\n",
       "    .dataframe tbody tr th {\n",
       "        vertical-align: top;\n",
       "    }\n",
       "\n",
       "    .dataframe thead th {\n",
       "        text-align: right;\n",
       "    }\n",
       "</style>\n",
       "<table border=\"1\" class=\"dataframe\">\n",
       "  <thead>\n",
       "    <tr style=\"text-align: right;\">\n",
       "      <th></th>\n",
       "      <th>client_id</th>\n",
       "      <th>company_id</th>\n",
       "      <th>delay</th>\n",
       "      <th>revenue</th>\n",
       "    </tr>\n",
       "  </thead>\n",
       "  <tbody>\n",
       "    <tr>\n",
       "      <th>0</th>\n",
       "      <td>2389</td>\n",
       "      <td>4240</td>\n",
       "      <td>-1 days -14:57:48.000000000</td>\n",
       "      <td>705436</td>\n",
       "    </tr>\n",
       "    <tr>\n",
       "      <th>1</th>\n",
       "      <td>7614</td>\n",
       "      <td>9544</td>\n",
       "      <td>-4 days -02:14:23.000000000</td>\n",
       "      <td>859266</td>\n",
       "    </tr>\n",
       "    <tr>\n",
       "      <th>2</th>\n",
       "      <td>2052</td>\n",
       "      <td>2427</td>\n",
       "      <td>-0 days -06:08:57.000000000</td>\n",
       "      <td>812416</td>\n",
       "    </tr>\n",
       "    <tr>\n",
       "      <th>3</th>\n",
       "      <td>9635</td>\n",
       "      <td>8054</td>\n",
       "      <td>-0 days -23:40:19.000000000</td>\n",
       "      <td>162312</td>\n",
       "    </tr>\n",
       "    <tr>\n",
       "      <th>4</th>\n",
       "      <td>8154</td>\n",
       "      <td>5503</td>\n",
       "      <td>-1 days -13:21:53.000000000</td>\n",
       "      <td>658844</td>\n",
       "    </tr>\n",
       "  </tbody>\n",
       "</table>\n",
       "</div>"
      ],
      "text/plain": [
       "   client_id  company_id                        delay  revenue\n",
       "0       2389        4240  -1 days -14:57:48.000000000   705436\n",
       "1       7614        9544  -4 days -02:14:23.000000000   859266\n",
       "2       2052        2427  -0 days -06:08:57.000000000   812416\n",
       "3       9635        8054  -0 days -23:40:19.000000000   162312\n",
       "4       8154        5503  -1 days -13:21:53.000000000   658844"
      ]
     },
     "execution_count": 20,
     "metadata": {},
     "output_type": "execute_result"
    }
   ],
   "source": [
    "df_delays.head()"
   ]
  },
  {
   "cell_type": "code",
   "execution_count": 21,
   "id": "80dc9d65",
   "metadata": {},
   "outputs": [
    {
     "data": {
      "text/plain": [
       "(264, 4)"
      ]
     },
     "execution_count": 21,
     "metadata": {},
     "output_type": "execute_result"
    }
   ],
   "source": [
    "df_delays.shape"
   ]
  },
  {
   "cell_type": "code",
   "execution_count": 22,
   "id": "5b780114",
   "metadata": {},
   "outputs": [
    {
     "data": {
      "text/plain": [
       "client_id      int64\n",
       "company_id     int64\n",
       "delay         object\n",
       "revenue        int64\n",
       "dtype: object"
      ]
     },
     "execution_count": 22,
     "metadata": {},
     "output_type": "execute_result"
    }
   ],
   "source": [
    "df_delays.dtypes"
   ]
  },
  {
   "cell_type": "markdown",
   "id": "a9191d96",
   "metadata": {},
   "source": [
    "Convert column `delay` to `timedelta` format:"
   ]
  },
  {
   "cell_type": "code",
   "execution_count": 23,
   "id": "dbc36dfa",
   "metadata": {},
   "outputs": [],
   "source": [
    "df_delays['delay'] = pd.to_timedelta(df_delays.delay.str.replace('-', ''))"
   ]
  },
  {
   "cell_type": "code",
   "execution_count": 24,
   "id": "50d59276",
   "metadata": {},
   "outputs": [
    {
     "data": {
      "text/plain": [
       "client_id               int64\n",
       "company_id              int64\n",
       "delay         timedelta64[ns]\n",
       "revenue                 int64\n",
       "dtype: object"
      ]
     },
     "execution_count": 24,
     "metadata": {},
     "output_type": "execute_result"
    }
   ],
   "source": [
    "df_delays.dtypes"
   ]
  },
  {
   "cell_type": "markdown",
   "id": "ec7e0baf",
   "metadata": {},
   "source": [
    "***\n",
    "Let's turn the continuous variable time to nominative, break it down into categories:"
   ]
  },
  {
   "cell_type": "code",
   "execution_count": 25,
   "id": "0d946ade",
   "metadata": {},
   "outputs": [],
   "source": [
    "bins = [pd.to_timedelta('0d'), \n",
    "        pd.to_timedelta('1d'),\n",
    "        pd.to_timedelta('2d'),\n",
    "        pd.to_timedelta('3d'),\n",
    "        pd.to_timedelta('100d')]"
   ]
  },
  {
   "cell_type": "code",
   "execution_count": 26,
   "id": "94ef2b5b",
   "metadata": {},
   "outputs": [],
   "source": [
    "df_delays['delay_categorical'] = pd.cut(df_delays.delay, \n",
    "                                        bins=bins, \n",
    "                                        labels=['less than 1 day', '1 - 2 days', '2 - 3 days', 'more than 3 days'])"
   ]
  },
  {
   "cell_type": "code",
   "execution_count": 27,
   "id": "7973bead",
   "metadata": {},
   "outputs": [
    {
     "data": {
      "text/html": [
       "<div>\n",
       "<style scoped>\n",
       "    .dataframe tbody tr th:only-of-type {\n",
       "        vertical-align: middle;\n",
       "    }\n",
       "\n",
       "    .dataframe tbody tr th {\n",
       "        vertical-align: top;\n",
       "    }\n",
       "\n",
       "    .dataframe thead th {\n",
       "        text-align: right;\n",
       "    }\n",
       "</style>\n",
       "<table border=\"1\" class=\"dataframe\">\n",
       "  <thead>\n",
       "    <tr style=\"text-align: right;\">\n",
       "      <th></th>\n",
       "      <th>client_id</th>\n",
       "      <th>company_id</th>\n",
       "      <th>delay</th>\n",
       "      <th>revenue</th>\n",
       "      <th>delay_categorical</th>\n",
       "    </tr>\n",
       "  </thead>\n",
       "  <tbody>\n",
       "    <tr>\n",
       "      <th>0</th>\n",
       "      <td>2389</td>\n",
       "      <td>4240</td>\n",
       "      <td>1 days 14:57:48</td>\n",
       "      <td>705436</td>\n",
       "      <td>1 - 2 days</td>\n",
       "    </tr>\n",
       "    <tr>\n",
       "      <th>1</th>\n",
       "      <td>7614</td>\n",
       "      <td>9544</td>\n",
       "      <td>4 days 02:14:23</td>\n",
       "      <td>859266</td>\n",
       "      <td>more than 3 days</td>\n",
       "    </tr>\n",
       "    <tr>\n",
       "      <th>2</th>\n",
       "      <td>2052</td>\n",
       "      <td>2427</td>\n",
       "      <td>0 days 06:08:57</td>\n",
       "      <td>812416</td>\n",
       "      <td>less than 1 day</td>\n",
       "    </tr>\n",
       "    <tr>\n",
       "      <th>3</th>\n",
       "      <td>9635</td>\n",
       "      <td>8054</td>\n",
       "      <td>0 days 23:40:19</td>\n",
       "      <td>162312</td>\n",
       "      <td>less than 1 day</td>\n",
       "    </tr>\n",
       "    <tr>\n",
       "      <th>4</th>\n",
       "      <td>8154</td>\n",
       "      <td>5503</td>\n",
       "      <td>1 days 13:21:53</td>\n",
       "      <td>658844</td>\n",
       "      <td>1 - 2 days</td>\n",
       "    </tr>\n",
       "    <tr>\n",
       "      <th>...</th>\n",
       "      <td>...</td>\n",
       "      <td>...</td>\n",
       "      <td>...</td>\n",
       "      <td>...</td>\n",
       "      <td>...</td>\n",
       "    </tr>\n",
       "    <tr>\n",
       "      <th>259</th>\n",
       "      <td>5837</td>\n",
       "      <td>2617</td>\n",
       "      <td>0 days 05:32:08</td>\n",
       "      <td>602129</td>\n",
       "      <td>less than 1 day</td>\n",
       "    </tr>\n",
       "    <tr>\n",
       "      <th>260</th>\n",
       "      <td>2384</td>\n",
       "      <td>2364</td>\n",
       "      <td>3 days 23:27:14</td>\n",
       "      <td>910660</td>\n",
       "      <td>more than 3 days</td>\n",
       "    </tr>\n",
       "    <tr>\n",
       "      <th>261</th>\n",
       "      <td>5146</td>\n",
       "      <td>3331</td>\n",
       "      <td>1 days 15:22:34</td>\n",
       "      <td>401137</td>\n",
       "      <td>1 - 2 days</td>\n",
       "    </tr>\n",
       "    <tr>\n",
       "      <th>262</th>\n",
       "      <td>7203</td>\n",
       "      <td>5532</td>\n",
       "      <td>2 days 17:15:02</td>\n",
       "      <td>308979</td>\n",
       "      <td>2 - 3 days</td>\n",
       "    </tr>\n",
       "    <tr>\n",
       "      <th>263</th>\n",
       "      <td>3822</td>\n",
       "      <td>9882</td>\n",
       "      <td>1 days 15:50:29</td>\n",
       "      <td>877773</td>\n",
       "      <td>1 - 2 days</td>\n",
       "    </tr>\n",
       "  </tbody>\n",
       "</table>\n",
       "<p>264 rows × 5 columns</p>\n",
       "</div>"
      ],
      "text/plain": [
       "     client_id  company_id           delay  revenue delay_categorical\n",
       "0         2389        4240 1 days 14:57:48   705436        1 - 2 days\n",
       "1         7614        9544 4 days 02:14:23   859266  more than 3 days\n",
       "2         2052        2427 0 days 06:08:57   812416   less than 1 day\n",
       "3         9635        8054 0 days 23:40:19   162312   less than 1 day\n",
       "4         8154        5503 1 days 13:21:53   658844        1 - 2 days\n",
       "..         ...         ...             ...      ...               ...\n",
       "259       5837        2617 0 days 05:32:08   602129   less than 1 day\n",
       "260       2384        2364 3 days 23:27:14   910660  more than 3 days\n",
       "261       5146        3331 1 days 15:22:34   401137        1 - 2 days\n",
       "262       7203        5532 2 days 17:15:02   308979        2 - 3 days\n",
       "263       3822        9882 1 days 15:50:29   877773        1 - 2 days\n",
       "\n",
       "[264 rows x 5 columns]"
      ]
     },
     "execution_count": 27,
     "metadata": {},
     "output_type": "execute_result"
    }
   ],
   "source": [
    "df_delays"
   ]
  }
 ],
 "metadata": {
  "kernelspec": {
   "display_name": "Python 3 (ipykernel)",
   "language": "python",
   "name": "python3"
  },
  "language_info": {
   "codemirror_mode": {
    "name": "ipython",
    "version": 3
   },
   "file_extension": ".py",
   "mimetype": "text/x-python",
   "name": "python",
   "nbconvert_exporter": "python",
   "pygments_lexer": "ipython3",
   "version": "3.9.12"
  }
 },
 "nbformat": 4,
 "nbformat_minor": 5
}
